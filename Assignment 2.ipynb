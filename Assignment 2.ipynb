{
 "cells": [
  {
   "cell_type": "markdown",
   "id": "11466ee1",
   "metadata": {},
   "source": [
    "# Imports"
   ]
  },
  {
   "cell_type": "code",
   "execution_count": 1,
   "id": "476b474e",
   "metadata": {},
   "outputs": [],
   "source": [
    "# Packages needed for this notebook\n",
    "import gymnasium as gym\n",
    "import gym_RLcourse\n",
    "import numpy as np\n",
    "import matplotlib.pyplot as plt\n",
    "from IPython.display import clear_output # Used to clear the ouput of a Jupyter cell."
   ]
  },
  {
   "cell_type": "markdown",
   "id": "71b1808d",
   "metadata": {},
   "source": [
    "# Solution"
   ]
  },
  {
   "cell_type": "code",
   "execution_count": 2,
   "id": "dbc1146f",
   "metadata": {},
   "outputs": [],
   "source": [
    "def train_q(agent, env, n_episodes, max_steps=50000):\n",
    "    step = 0\n",
    "    steps = np.zeros(n_episodes) # Steps after each episode\n",
    "    total_rewards = np.zeros(n_episodes)\n",
    "    for i in range(n_episodes):\n",
    "        rewards=0\n",
    "        terminated = False\n",
    "        truncated = False\n",
    "        state, info = env.reset()\n",
    "        while not terminated and not truncated:\n",
    "            action = agent.act(state)\n",
    "            state_next, reward, terminated, truncated, info = env.step(action)\n",
    "            agent.learn(state, action, reward, state_next)\n",
    "            state = state_next\n",
    "            step += 1\n",
    "            rewards += reward\n",
    "            \n",
    "            if step>max_steps:\n",
    "                return total_rewards, steps   # changed this line\n",
    "        steps[i] = step\n",
    "        total_rewards[i] = rewards\n",
    "    return total_rewards, steps"
   ]
  },
  {
   "cell_type": "code",
   "execution_count": 3,
   "id": "bea0fbda",
   "metadata": {},
   "outputs": [],
   "source": [
    "class QAgent():\n",
    "    def __init__(self, n_states, n_actions, gamma, alpha, epsilon):\n",
    "        self.n_states = n_states\n",
    "        self.n_actions = n_actions\n",
    "        self.alpha = alpha\n",
    "        self.gamma = gamma\n",
    "        self.epsilon = epsilon\n",
    "        self.Q = np.zeros((n_states, n_actions))\n",
    "        \n",
    "    def act(self, state):\n",
    "        # Implement the self.epsilon-greedy policy\n",
    "        if np.random.rand() > self.epsilon: \n",
    "            action = np.argmax(self.Q[state,:]) \n",
    "        else: \n",
    "            action = np.random.choice(self.n_actions) \n",
    "            \n",
    "        return action\n",
    "            \n",
    "    def learn(self, s, a, r, s_next):\n",
    "        # Implement the Q-learning update\n",
    "        Q_next = np.max(self.Q[s_next,:]) \n",
    "        self.Q[s,a] += self.alpha*(r + self.gamma*Q_next - self.Q[s,a]) \n"
   ]
  },
  {
   "cell_type": "code",
   "execution_count": 4,
   "id": "b08819cb",
   "metadata": {},
   "outputs": [],
   "source": [
    "def test_policy(agent, env, max_steps=40, render=True):\n",
    "    state, info = env.reset()\n",
    "    step = 0\n",
    "    total_reward = 0\n",
    "    terminated = False\n",
    "    truncated = False\n",
    "    while not terminated and not truncated and step<max_steps:\n",
    "        action = agent.act(state)\n",
    "        state, reward, terminated, truncated, info = env.step(action)\n",
    "        total_reward += reward\n",
    "        step += 1\n",
    "        if render:\n",
    "            clear_output(wait=True)\n",
    "            # Show some information\n",
    "            print(\"Time step:\", step)\n",
    "            print(\"Action:\", action)\n",
    "            print(\"Reward:\", reward)\n",
    "            print(\"Total reward:\", total_reward)\n",
    "    return total_reward"
   ]
  },
  {
   "cell_type": "markdown",
   "id": "c1b49794",
   "metadata": {},
   "source": [
    "# Train"
   ]
  },
  {
   "cell_type": "code",
   "execution_count": 9,
   "id": "fe559d9c",
   "metadata": {},
   "outputs": [
    {
     "name": "stdout",
     "output_type": "stream",
     "text": [
      "State space:  Discrete(500)\n",
      "Action space:  Discrete(6)\n"
     ]
    }
   ],
   "source": [
    "env_train = gym.make('Taxi-v3')\n",
    "state, info = env_train.reset()\n",
    "print(\"State space: \", env_train.observation_space)\n",
    "print(\"Action space: \", env_train.action_space)"
   ]
  },
  {
   "cell_type": "code",
   "execution_count": 10,
   "id": "ae33a517",
   "metadata": {},
   "outputs": [
    {
     "data": {
      "text/plain": [
       "(array([-515., -569., -488., ...,    0.,    0.,    0.]),\n",
       " array([200., 400., 600., ...,   0.,   0.,   0.]))"
      ]
     },
     "execution_count": 10,
     "metadata": {},
     "output_type": "execute_result"
    }
   ],
   "source": [
    "gamma = 1 # Discount\n",
    "alpha = 1 # Stepsize\n",
    "epsilon = 0.1 # Greedyness\n",
    "n_episodes = 100000\n",
    "\n",
    "\n",
    "agentQ = QAgent(env_train.observation_space.n, env_train.action_space.n, gamma, alpha, epsilon)\n",
    "train_q(agentQ, env_train, n_episodes)"
   ]
  },
  {
   "cell_type": "markdown",
   "id": "6aae3749",
   "metadata": {},
   "source": [
    "# Test"
   ]
  },
  {
   "cell_type": "code",
   "execution_count": 13,
   "id": "6d924e3f",
   "metadata": {},
   "outputs": [
    {
     "name": "stdout",
     "output_type": "stream",
     "text": [
      "Time step: 15\n",
      "Action: 5\n",
      "Reward: 20\n",
      "Total reward: 6\n"
     ]
    }
   ],
   "source": [
    "env = gym.make('Taxi-v3', render_mode=\"human\")\n",
    "\n",
    "# Only act greedily \n",
    "agentQ.epsilon = 0\n",
    "\n",
    "total_reward = test_policy(agentQ, env, max_steps=100)"
   ]
  },
  {
   "cell_type": "markdown",
   "id": "6be4d57e",
   "metadata": {},
   "source": [
    "# Find optimal policy as specific state"
   ]
  },
  {
   "cell_type": "code",
   "execution_count": 19,
   "id": "4aa2138a",
   "metadata": {},
   "outputs": [
    {
     "name": "stdout",
     "output_type": "stream",
     "text": [
      "4\n"
     ]
    }
   ],
   "source": [
    "# Only act greedily \n",
    "agentQ.epsilon = 0\n",
    "\n",
    "state = 3\n",
    "\n",
    "action = np.argmax(agentQ.Q[state,:])\n",
    "print(action)"
   ]
  },
  {
   "cell_type": "code",
   "execution_count": null,
   "id": "76eba0c1",
   "metadata": {},
   "outputs": [],
   "source": []
  }
 ],
 "metadata": {
  "kernelspec": {
   "display_name": "reinlearn",
   "language": "python",
   "name": "reinlearn"
  },
  "language_info": {
   "codemirror_mode": {
    "name": "ipython",
    "version": 3
   },
   "file_extension": ".py",
   "mimetype": "text/x-python",
   "name": "python",
   "nbconvert_exporter": "python",
   "pygments_lexer": "ipython3",
   "version": "3.9.16"
  }
 },
 "nbformat": 4,
 "nbformat_minor": 5
}
